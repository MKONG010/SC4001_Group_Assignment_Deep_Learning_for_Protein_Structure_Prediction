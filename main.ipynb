{
 "cells": [
  {
   "cell_type": "code",
   "execution_count": 1,
   "metadata": {},
   "outputs": [],
   "source": [
    "import pandas as pd"
   ]
  },
  {
   "cell_type": "code",
   "execution_count": 5,
   "metadata": {},
   "outputs": [],
   "source": [
    "# read data\n",
    "df = pd.read_csv('2018-06-06-ss.cleaned.csv')"
   ]
  },
  {
   "cell_type": "code",
   "execution_count": 7,
   "metadata": {},
   "outputs": [
    {
     "data": {
      "text/plain": [
       "(393732, 7)"
      ]
     },
     "execution_count": 7,
     "metadata": {},
     "output_type": "execute_result"
    }
   ],
   "source": [
    "df.shape"
   ]
  },
  {
   "cell_type": "markdown",
   "metadata": {},
   "source": [
    "Description of columns\n",
    "\n",
    "1. pdb_id: the id used to locate its entry on https://www.rcsb.org/\n",
    "2. chain_code: when a protein consists of multiple peptides (chains), the chain code is needed to locate a particular one.\n",
    "3. seq: the sequence of the peptide\n",
    "4. sst8: the eight-state (Q8) secondary structure\n",
    "5. sst3: the three-state (Q3) secondary structure\n",
    "6. len: the length of the peptide\n",
    "7. has_nonstd_aa: whether the peptide contains nonstandard amino acids (B, O, U, X, or Z)."
   ]
  },
  {
   "cell_type": "code",
   "execution_count": 3,
   "metadata": {},
   "outputs": [
    {
     "name": "stdout",
     "output_type": "stream",
     "text": [
      "<class 'pandas.core.frame.DataFrame'>\n",
      "RangeIndex: 393732 entries, 0 to 393731\n",
      "Data columns (total 7 columns):\n",
      " #   Column         Non-Null Count   Dtype \n",
      "---  ------         --------------   ----- \n",
      " 0   pdb_id         393732 non-null  object\n",
      " 1   chain_code     393732 non-null  object\n",
      " 2   seq            393732 non-null  object\n",
      " 3   sst8           393732 non-null  object\n",
      " 4   sst3           393732 non-null  object\n",
      " 5   len            393732 non-null  int64 \n",
      " 6   has_nonstd_aa  393732 non-null  bool  \n",
      "dtypes: bool(1), int64(1), object(5)\n",
      "memory usage: 18.4+ MB\n"
     ]
    }
   ],
   "source": [
    "df.info()"
   ]
  }
 ],
 "metadata": {
  "kernelspec": {
   "display_name": "Python 3",
   "language": "python",
   "name": "python3"
  },
  "language_info": {
   "codemirror_mode": {
    "name": "ipython",
    "version": 3
   },
   "file_extension": ".py",
   "mimetype": "text/x-python",
   "name": "python",
   "nbconvert_exporter": "python",
   "pygments_lexer": "ipython3",
   "version": "3.9.18"
  }
 },
 "nbformat": 4,
 "nbformat_minor": 2
}
